{
 "cells": [
  {
   "cell_type": "code",
   "execution_count": 5,
   "metadata": {},
   "outputs": [],
   "source": [
    "import glob\n",
    "import os\n",
    "import requests\n",
    "import tarfile"
   ]
  },
  {
   "cell_type": "code",
   "execution_count": 6,
   "metadata": {},
   "outputs": [],
   "source": [
    "model_dir = \"models\"\n",
    "model_names = [\n",
    "    \"centernet_resnet50_v1_fpn_512x512_coco17_tpu-8\",\n",
    "    \"efficientdet_d2_coco17_tpu-32\",\n",
    "    \"faster_rcnn_resnet152_v1_1024x1024_coco17_tpu-8\"\n",
    "]\n",
    "\n",
    "model_zoo = \"http://download.tensorflow.org/models/object_detection/tf2/20200711\""
   ]
  },
  {
   "cell_type": "code",
   "execution_count": 7,
   "metadata": {},
   "outputs": [
    {
     "name": "stdout",
     "output_type": "stream",
     "text": [
      "Downloaded:  centernet_resnet50_v1_fpn_512x512_coco17_tpu-8\n",
      "Downloaded:  efficientdet_d2_coco17_tpu-32\n",
      "Downloaded:  faster_rcnn_resnet152_v1_1024x1024_coco17_tpu-8\n"
     ]
    }
   ],
   "source": [
    "if not os.path.exists(model_dir):\n",
    "    os.makedirs(model_dir)\n",
    "\n",
    "for model_name in model_names:\n",
    "    model_url = f\"{model_zoo}/{model_name}.tar.gz\"\n",
    "    model_file = f\"{model_dir}/{model_name}.tar.gz\"\n",
    "    \n",
    "    if os.path.exists(model_file):\n",
    "        continue\n",
    "\n",
    "    response = requests.get(model_url)\n",
    "    with open(model_file, \"wb\") as file:\n",
    "        file.write(response.content)\n",
    "    print(\"Downloaded: \", model_name)"
   ]
  },
  {
   "cell_type": "code",
   "execution_count": 8,
   "metadata": {},
   "outputs": [
    {
     "name": "stdout",
     "output_type": "stream",
     "text": [
      "Extracted:  models\\centernet_resnet50_v1_fpn_512x512_coco17_tpu-8.tar.gz\n",
      "Extracted:  models\\efficientdet_d2_coco17_tpu-32.tar.gz\n",
      "Extracted:  models\\faster_rcnn_resnet152_v1_1024x1024_coco17_tpu-8.tar.gz\n"
     ]
    }
   ],
   "source": [
    "for zip_path in glob.glob(os.path.join(model_dir, \"*.gz\")):\n",
    "    if tarfile.is_tarfile(zip_path):\n",
    "        with tarfile.open(zip_path, \"r\") as tar:\n",
    "            tar.extractall(path=model_dir)\n",
    "        os.remove(zip_path)\n",
    "        print(\"Extracted: \", zip_path)"
   ]
  },
  {
   "cell_type": "code",
   "execution_count": null,
   "metadata": {},
   "outputs": [],
   "source": []
  }
 ],
 "metadata": {
  "kernelspec": {
   "display_name": "kegglefirst",
   "language": "python",
   "name": "kegglefirst"
  },
  "language_info": {
   "codemirror_mode": {
    "name": "ipython",
    "version": 3
   },
   "file_extension": ".py",
   "mimetype": "text/x-python",
   "name": "python",
   "nbconvert_exporter": "python",
   "pygments_lexer": "ipython3",
   "version": "3.6.10"
  }
 },
 "nbformat": 4,
 "nbformat_minor": 4
}
